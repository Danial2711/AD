{
 "cells": [
  {
   "cell_type": "markdown",
   "metadata": {},
   "source": [
    "## Засоби підготовки та аналізу даних\n",
    "#### Шафранський Даніїл, ФБ-22. Лабораторна робота №4"
   ]
  },
  {
   "cell_type": "markdown",
   "metadata": {},
   "source": [
    "##### Перший рівень"
   ]
  },
  {
   "cell_type": "markdown",
   "metadata": {},
   "source": [
    "Imports"
   ]
  },
  {
   "cell_type": "code",
   "execution_count": 3,
   "metadata": {},
   "outputs": [],
   "source": [
    "from ucimlrepo import fetch_ucirepo\n",
    "import pandas as pd\n",
    "import numpy as np\n",
    "import timeit as ti\n",
    "import matplotlib.pyplot as plt\n",
    "from scipy.stats import pearsonr, spearmanr\n",
    "import seaborn as sns\n",
    "from sklearn.preprocessing import OneHotEncoder"
   ]
  },
  {
   "cell_type": "markdown",
   "metadata": {},
   "source": [
    "Download dataset and create .csv file"
   ]
  },
  {
   "cell_type": "code",
   "execution_count": null,
   "metadata": {},
   "outputs": [],
   "source": [
    "individual_household_electric_power_consumption = fetch_ucirepo(id=235) \n",
    "\n",
    "X = individual_household_electric_power_consumption.data.features \n",
    "\n",
    "X_df = pd.DataFrame(X)\n",
    "\n",
    "X_df.to_csv('individual_household_electric_power_consumption.csv', index=False)\n",
    "\n",
    "print(X_df)"
   ]
  },
  {
   "cell_type": "markdown",
   "metadata": {},
   "source": [
    "Load dataset into variables, drop missing values and convert string data into numeric"
   ]
  },
  {
   "cell_type": "code",
   "execution_count": null,
   "metadata": {},
   "outputs": [
    {
     "name": "stderr",
     "output_type": "stream",
     "text": [
      "C:\\Users\\safra\\AppData\\Local\\Temp\\ipykernel_1368\\703508129.py:1: DtypeWarning: Columns (2,3,4,5,6,7) have mixed types. Specify dtype option on import or set low_memory=False.\n",
      "  data_df = pd.read_csv('individual_household_electric_power_consumption.csv')\n",
      "C:\\Users\\safra\\AppData\\Local\\Temp\\ipykernel_1368\\703508129.py:4: UserWarning: Parsing dates in %d/%m/%Y %H:%M:%S format when dayfirst=False (the default) was specified. Pass `dayfirst=True` or specify a format to silence this warning.\n",
      "  data_df['DateTime'] = pd.to_datetime(data_df['Date'] + ' ' + data_df['Time'])\n"
     ]
    },
    {
     "name": "stdout",
     "output_type": "stream",
     "text": [
      "               Date      Time  Global_active_power  Global_reactive_power   \n",
      "0        16/12/2006  17:24:00                4.216                  0.418  \\\n",
      "1        16/12/2006  17:25:00                5.360                  0.436   \n",
      "2        16/12/2006  17:26:00                5.374                  0.498   \n",
      "3        16/12/2006  17:27:00                5.388                  0.502   \n",
      "4        16/12/2006  17:28:00                3.666                  0.528   \n",
      "...             ...       ...                  ...                    ...   \n",
      "2075254  26/11/2010  20:58:00                0.946                  0.000   \n",
      "2075255  26/11/2010  20:59:00                0.944                  0.000   \n",
      "2075256  26/11/2010  21:00:00                0.938                  0.000   \n",
      "2075257  26/11/2010  21:01:00                0.934                  0.000   \n",
      "2075258  26/11/2010  21:02:00                0.932                  0.000   \n",
      "\n",
      "         Voltage  Global_intensity  Sub_metering_1  Sub_metering_2   \n",
      "0         234.84              18.4             0.0             1.0  \\\n",
      "1         233.63              23.0             0.0             1.0   \n",
      "2         233.29              23.0             0.0             2.0   \n",
      "3         233.74              23.0             0.0             1.0   \n",
      "4         235.68              15.8             0.0             1.0   \n",
      "...          ...               ...             ...             ...   \n",
      "2075254   240.43               4.0             0.0             0.0   \n",
      "2075255   240.00               4.0             0.0             0.0   \n",
      "2075256   239.82               3.8             0.0             0.0   \n",
      "2075257   239.70               3.8             0.0             0.0   \n",
      "2075258   239.55               3.8             0.0             0.0   \n",
      "\n",
      "         Sub_metering_3            DateTime  \n",
      "0                  17.0 2006-12-16 17:24:00  \n",
      "1                  16.0 2006-12-16 17:25:00  \n",
      "2                  17.0 2006-12-16 17:26:00  \n",
      "3                  17.0 2006-12-16 17:27:00  \n",
      "4                  17.0 2006-12-16 17:28:00  \n",
      "...                 ...                 ...  \n",
      "2075254             0.0 2010-11-26 20:58:00  \n",
      "2075255             0.0 2010-11-26 20:59:00  \n",
      "2075256             0.0 2010-11-26 21:00:00  \n",
      "2075257             0.0 2010-11-26 21:01:00  \n",
      "2075258             0.0 2010-11-26 21:02:00  \n",
      "\n",
      "[2049280 rows x 10 columns]\n"
     ]
    }
   ],
   "source": [
    "data_df = pd.read_csv('individual_household_electric_power_consumption.csv')\n",
    "\n",
    "data_df = data_df.dropna()\n",
    "data_df['DateTime'] = pd.to_datetime(data_df['Date'] + ' ' + data_df['Time'])\n",
    "\n",
    "for column in data_df.columns[2:-1]:\n",
    "    data_df[column] = pd.to_numeric(data_df[column], errors = 'coerce')\n",
    "\n",
    "data_np = data_df.to_numpy()\n",
    "print(data_df)"
   ]
  },
  {
   "cell_type": "markdown",
   "metadata": {},
   "source": [
    "1. Обрати всі домогосподарства, у яких загальна активна споживана потужність перевищує 5 кВт."
   ]
  },
  {
   "cell_type": "code",
   "execution_count": null,
   "metadata": {},
   "outputs": [
    {
     "name": "stdout",
     "output_type": "stream",
     "text": [
      "Numpy array:\n",
      " [['16/12/2006' '17:25:00' 5.36 ... '0.000' '1.000' 16.0]\n",
      " ['16/12/2006' '17:26:00' 5.374 ... '0.000' '2.000' 17.0]\n",
      " ['16/12/2006' '17:27:00' 5.388 ... '0.000' '1.000' 17.0]\n",
      " ...\n",
      " ['24/11/2010' '07:50:00' 5.172 ... 0.0 38.0 17.0]\n",
      " ['24/11/2010' '07:51:00' 5.75 ... 0.0 39.0 17.0]\n",
      " ['25/11/2010' '07:21:00' 5.074 ... 1.0 2.0 18.0]]\n",
      "Execution time with numpy array: 0.05305929997120984\n",
      "DataFrame:\n",
      "                Date      Time  Global_active_power Global_reactive_power   \n",
      "1        16/12/2006  17:25:00                5.360                 0.436  \\\n",
      "2        16/12/2006  17:26:00                5.374                 0.498   \n",
      "3        16/12/2006  17:27:00                5.388                 0.502   \n",
      "11       16/12/2006  17:35:00                5.412                 0.470   \n",
      "12       16/12/2006  17:36:00                5.224                 0.478   \n",
      "...             ...       ...                  ...                   ...   \n",
      "2069356  22/11/2010  18:40:00                5.408                  0.15   \n",
      "2069357  22/11/2010  18:41:00                5.528                 0.144   \n",
      "2071586  24/11/2010  07:50:00                5.172                  0.05   \n",
      "2071587  24/11/2010  07:51:00                5.750                   0.0   \n",
      "2072997  25/11/2010  07:21:00                5.074                  0.24   \n",
      "\n",
      "         Voltage Global_intensity Sub_metering_1 Sub_metering_2   \n",
      "1         233.63           23.000          0.000          1.000  \\\n",
      "2         233.29           23.000          0.000          2.000   \n",
      "3         233.74           23.000          0.000          1.000   \n",
      "11        232.78           23.200          0.000          1.000   \n",
      "12        232.99           22.400          0.000          1.000   \n",
      "...          ...              ...            ...            ...   \n",
      "2069356   231.50             23.6           48.0            0.0   \n",
      "2069357   232.48             24.6           53.0            0.0   \n",
      "2071586   235.18             22.0            0.0           38.0   \n",
      "2071587   234.40             24.6            0.0           39.0   \n",
      "2072997   238.55             21.4            1.0            2.0   \n",
      "\n",
      "         Sub_metering_3  \n",
      "1                  16.0  \n",
      "2                  17.0  \n",
      "3                  17.0  \n",
      "11                 17.0  \n",
      "12                 16.0  \n",
      "...                 ...  \n",
      "2069356             0.0  \n",
      "2069357             0.0  \n",
      "2071586            17.0  \n",
      "2071587            17.0  \n",
      "2072997            18.0  \n",
      "\n",
      "[17547 rows x 9 columns]\n",
      "Execution time with DataFrame: 0.004471899999771267\n"
     ]
    },
    {
     "name": "stderr",
     "output_type": "stream",
     "text": [
      "C:\\Users\\safra\\AppData\\Local\\Temp\\ipykernel_27304\\1688546285.py:2: RuntimeWarning: invalid value encountered in greater\n",
      "  return data[data[:, 2] > 5]\n"
     ]
    }
   ],
   "source": [
    "def task1_np(data):\n",
    "    return data[data[:, 2] > 5]\n",
    "\n",
    "def task1_df(data):\n",
    "    return data[data['Global_active_power'] > 5]\n",
    "\n",
    "print('Numpy array:\\n', task1_np(data_np))\n",
    "print(\"Execution time with numpy array:\", ti.timeit(lambda: task1_np(data_np), number=1))\n",
    "print('DataFrame:\\n', task1_df(data_df))\n",
    "print(\"Execution time with DataFrame:\", ti.timeit(lambda: task1_df(data_df), number=1))"
   ]
  },
  {
   "cell_type": "markdown",
   "metadata": {},
   "source": [
    "2. Обрати всі домогосподарства, у яких вольтаж перевищую 235 В."
   ]
  },
  {
   "cell_type": "code",
   "execution_count": null,
   "metadata": {},
   "outputs": [
    {
     "name": "stderr",
     "output_type": "stream",
     "text": [
      "C:\\Users\\safra\\AppData\\Local\\Temp\\ipykernel_27304\\3586428070.py:2: RuntimeWarning: invalid value encountered in greater\n",
      "  return data[data[:, 4] > 235]\n"
     ]
    },
    {
     "name": "stdout",
     "output_type": "stream",
     "text": [
      "Numpy array:\n",
      " [['16/12/2006' '17:28:00' 3.666 ... '0.000' '1.000' 17.0]\n",
      " ['16/12/2006' '17:29:00' 3.52 ... '0.000' '2.000' 17.0]\n",
      " ['16/12/2006' '17:30:00' 3.702 ... '0.000' '1.000' 17.0]\n",
      " ...\n",
      " ['26/11/2010' '21:00:00' 0.938 ... 0.0 0.0 0.0]\n",
      " ['26/11/2010' '21:01:00' 0.934 ... 0.0 0.0 0.0]\n",
      " ['26/11/2010' '21:02:00' 0.932 ... 0.0 0.0 0.0]]\n",
      "Execution time with numpy array: 0.1783370999910403\n",
      "DataFrame:\n",
      "                Date      Time  Global_active_power Global_reactive_power   \n",
      "4        16/12/2006  17:28:00                3.666                 0.528  \\\n",
      "5        16/12/2006  17:29:00                3.520                 0.522   \n",
      "6        16/12/2006  17:30:00                3.702                 0.520   \n",
      "7        16/12/2006  17:31:00                3.700                 0.520   \n",
      "14       16/12/2006  17:38:00                4.054                 0.422   \n",
      "...             ...       ...                  ...                   ...   \n",
      "2075254  26/11/2010  20:58:00                0.946                   0.0   \n",
      "2075255  26/11/2010  20:59:00                0.944                   0.0   \n",
      "2075256  26/11/2010  21:00:00                0.938                   0.0   \n",
      "2075257  26/11/2010  21:01:00                0.934                   0.0   \n",
      "2075258  26/11/2010  21:02:00                0.932                   0.0   \n",
      "\n",
      "         Voltage Global_intensity Sub_metering_1 Sub_metering_2   \n",
      "4         235.68           15.800          0.000          1.000  \\\n",
      "5         235.02           15.000          0.000          2.000   \n",
      "6         235.09           15.800          0.000          1.000   \n",
      "7         235.22           15.800          0.000          1.000   \n",
      "14        235.24           17.600          0.000          1.000   \n",
      "...          ...              ...            ...            ...   \n",
      "2075254   240.43              4.0            0.0            0.0   \n",
      "2075255   240.00              4.0            0.0            0.0   \n",
      "2075256   239.82              3.8            0.0            0.0   \n",
      "2075257   239.70              3.8            0.0            0.0   \n",
      "2075258   239.55              3.8            0.0            0.0   \n",
      "\n",
      "         Sub_metering_3  \n",
      "4                  17.0  \n",
      "5                  17.0  \n",
      "6                  17.0  \n",
      "7                  17.0  \n",
      "14                 17.0  \n",
      "...                 ...  \n",
      "2075254             0.0  \n",
      "2075255             0.0  \n",
      "2075256             0.0  \n",
      "2075257             0.0  \n",
      "2075258             0.0  \n",
      "\n",
      "[1952491 rows x 9 columns]\n",
      "Execution time with DataFrame: 0.15276160000939853\n"
     ]
    }
   ],
   "source": [
    "def task2_np(data):\n",
    "    return data[data[:, 4] > 235]\n",
    "\n",
    "def task2_df(data):\n",
    "    return data[data['Voltage'] > 235]\n",
    "\n",
    "print('Numpy array:\\n', task2_np(data_np))\n",
    "print(\"Execution time with numpy array:\", ti.timeit(lambda: task2_np(data_np), number=1))\n",
    "print('DataFrame:\\n', task2_df(data_df))\n",
    "print(\"Execution time with DataFrame:\", ti.timeit(lambda: task2_df(data_df), number=1))"
   ]
  },
  {
   "cell_type": "markdown",
   "metadata": {},
   "source": [
    "3. Обрати всі домогосподарства, у яких сила струму лежить в межах 19-20 А, для них виявити ті, у яких пральна машина та холодильних споживають більше, ніж бойлер та кондиціонер."
   ]
  },
  {
   "cell_type": "code",
   "execution_count": null,
   "metadata": {},
   "outputs": [
    {
     "name": "stdout",
     "output_type": "stream",
     "text": [
      "Numpy array:\n",
      " [['16/12/2006' '18:09:00' 4.464 ... 0.0 37.0 16.0]\n",
      " ['17/12/2006' '01:04:00' 4.582 ... 0.0 13.0 0.0]\n",
      " ['17/12/2006' '01:08:00' 4.618 ... 0.0 27.0 0.0]\n",
      " ...\n",
      " ['24/11/2010' '07:55:00' 4.602 ... 0.0 40.0 17.0]\n",
      " ['24/11/2010' '07:56:00' 4.536 ... 0.0 39.0 17.0]\n",
      " ['24/11/2010' '07:57:00' 4.626 ... 0.0 39.0 17.0]]\n",
      "Execution time with numpy array: 0.11216509999940172\n",
      "DataFrame:\n",
      "                Date      Time  Global_active_power  Global_reactive_power   \n",
      "45       16/12/2006  18:09:00                4.464                  0.136  \\\n",
      "460      17/12/2006  01:04:00                4.582                  0.258   \n",
      "464      17/12/2006  01:08:00                4.618                  0.104   \n",
      "475      17/12/2006  01:19:00                4.636                  0.140   \n",
      "476      17/12/2006  01:20:00                4.634                  0.152   \n",
      "...             ...       ...                  ...                    ...   \n",
      "2071589  24/11/2010  07:53:00                4.666                  0.000   \n",
      "2071590  24/11/2010  07:54:00                4.694                  0.000   \n",
      "2071591  24/11/2010  07:55:00                4.602                  0.000   \n",
      "2071592  24/11/2010  07:56:00                4.536                  0.000   \n",
      "2071593  24/11/2010  07:57:00                4.626                  0.000   \n",
      "\n",
      "         Voltage  Global_intensity  Sub_metering_1  Sub_metering_2   \n",
      "45        234.66              19.0             0.0            37.0  \\\n",
      "460       238.08              19.6             0.0            13.0   \n",
      "464       239.61              19.6             0.0            27.0   \n",
      "475       237.37              19.4             0.0            36.0   \n",
      "476       237.17              19.4             0.0            35.0   \n",
      "...          ...               ...             ...             ...   \n",
      "2071589   235.72              19.8             0.0            39.0   \n",
      "2071590   236.78              19.8             0.0            39.0   \n",
      "2071591   237.08              19.4             0.0            40.0   \n",
      "2071592   237.03              19.0             0.0            39.0   \n",
      "2071593   236.78              19.4             0.0            39.0   \n",
      "\n",
      "         Sub_metering_3  \n",
      "45                 16.0  \n",
      "460                 0.0  \n",
      "464                 0.0  \n",
      "475                 0.0  \n",
      "476                 0.0  \n",
      "...                 ...  \n",
      "2071589            17.0  \n",
      "2071590            18.0  \n",
      "2071591            17.0  \n",
      "2071592            17.0  \n",
      "2071593            17.0  \n",
      "\n",
      "[2509 rows x 9 columns]\n",
      "Execution time with DataFrame: 0.008576000022003427\n"
     ]
    },
    {
     "name": "stderr",
     "output_type": "stream",
     "text": [
      "C:\\Users\\safra\\AppData\\Local\\Temp\\ipykernel_8360\\679475129.py:2: RuntimeWarning: invalid value encountered in greater_equal\n",
      "  return data[(data[:, 5] >= 19) & (data[:, 5] <= 20) & (data[:, 7] > data[:, 8])]\n",
      "C:\\Users\\safra\\AppData\\Local\\Temp\\ipykernel_8360\\679475129.py:2: RuntimeWarning: invalid value encountered in less_equal\n",
      "  return data[(data[:, 5] >= 19) & (data[:, 5] <= 20) & (data[:, 7] > data[:, 8])]\n",
      "C:\\Users\\safra\\AppData\\Local\\Temp\\ipykernel_8360\\679475129.py:2: RuntimeWarning: invalid value encountered in greater\n",
      "  return data[(data[:, 5] >= 19) & (data[:, 5] <= 20) & (data[:, 7] > data[:, 8])]\n"
     ]
    }
   ],
   "source": [
    "def task3_np(data):\n",
    "    return data[(data[:, 5] >= 19) & (data[:, 5] <= 20) & (data[:, 7] > data[:, 8])]\n",
    "\n",
    "def task3_df(data):\n",
    "    return data[(data['Global_intensity'] >= 19) & (data['Global_intensity'] <= 20) & (data['Sub_metering_2'] > data['Sub_metering_3'])]\n",
    "\n",
    "print('Numpy array:\\n', task3_np(data_np))\n",
    "print(\"Execution time with numpy array:\", ti.timeit(lambda: task3_np(data_np), number=1))\n",
    "print('DataFrame:\\n', task3_df(data_df))\n",
    "print(\"Execution time with DataFrame:\", ti.timeit(lambda: task3_df(data_df), number=1))"
   ]
  },
  {
   "cell_type": "markdown",
   "metadata": {},
   "source": [
    "4. Обрати випадковим чином 500000 домогосподарств (без повторів елементів вибірки), для них обчислити середні величини усіх 3-х груп споживання електричної енергії"
   ]
  },
  {
   "cell_type": "code",
   "execution_count": null,
   "metadata": {},
   "outputs": [
    {
     "name": "stdout",
     "output_type": "stream",
     "text": [
      "Numpy array:\n",
      " [1.118244 1.294148 6.453428]\n",
      "Execution time with numpy array: 0.4111030000203755\n",
      "DataFrame:\n",
      " Sub_metering_1    1.120108\n",
      "Sub_metering_2    1.298172\n",
      "Sub_metering_3    6.484784\n",
      "dtype: float64\n",
      "Execution time with DataFrame: 0.18192510001244955\n"
     ]
    }
   ],
   "source": [
    "def task4_np(data):\n",
    "    global random_sample_np\n",
    "    random_sample_np = data[np.random.choice(data_np.shape[0], size=500000, replace=True), :]\n",
    "    sub_metering_means = np.mean(random_sample_np[:, 6:9], axis=0)\n",
    "    return sub_metering_means\n",
    "\n",
    "def task4_df(data):\n",
    "    global random_sample_df\n",
    "    random_sample_df = data.sample(n=500000, replace=False)\n",
    "    sub_metering_means = random_sample_df[['Sub_metering_1', 'Sub_metering_2', 'Sub_metering_3']].mean()\n",
    "    return sub_metering_means\n",
    "\n",
    "print('Numpy array:\\n', task4_np(data_np))\n",
    "print(\"Execution time with numpy array:\", ti.timeit(lambda: task4_np(data_np), number=1))\n",
    "print('DataFrame:\\n', task4_df(data_df))\n",
    "print(\"Execution time with DataFrame:\", ti.timeit(lambda: task4_df(data_df), number=1))"
   ]
  },
  {
   "cell_type": "markdown",
   "metadata": {},
   "source": [
    "5. Обрати ті домогосподарства, які після 18-00 споживають понад 6 кВт за хвилину в середньому, серед відібраних визначити ті, у яких основне споживання електроенергії у вказаний проміжок часу припадає на пральну машину, сушарку, холодильник та освітлення (група 2 є найбільшою), а потім обрати кожен третій результат із першої половини та кожен четвертий результат із другої половини."
   ]
  },
  {
   "cell_type": "code",
   "execution_count": null,
   "metadata": {},
   "outputs": [
    {
     "name": "stdout",
     "output_type": "stream",
     "text": [
      "Numpy array:\n",
      " [['16/12/2006' '18:05:00' 6.052 ... 37.0 17.0\n",
      "  Timestamp('2006-12-16 18:05:00')]\n",
      " ['16/12/2006' '18:08:00' 6.308 ... 36.0 17.0\n",
      "  Timestamp('2006-12-16 18:08:00')]\n",
      " ['17/12/2006' '18:18:00' 6.204 ... 0.0 16.0\n",
      "  Timestamp('2006-12-17 18:18:00')]\n",
      " ...\n",
      " ['20/11/2010' '18:40:00' 6.416 ... 35.0 16.0\n",
      "  Timestamp('2010-11-20 18:40:00')]\n",
      " ['20/11/2010' '18:44:00' 6.374 ... 36.0 16.0\n",
      "  Timestamp('2010-11-20 18:44:00')]\n",
      " ['20/11/2010' '18:52:00' 6.364 ... 34.0 16.0\n",
      "  Timestamp('2010-11-20 18:52:00')]]\n",
      "Execution time with numpy array: 1.1693853000178933\n",
      "DataFrame:\n",
      "                Date      Time  Global_active_power  Global_reactive_power   \n",
      "41       16/12/2006  18:05:00                6.052                  0.192  \\\n",
      "44       16/12/2006  18:08:00                6.308                  0.116   \n",
      "1494     17/12/2006  18:18:00                6.204                  0.116   \n",
      "8884     22/12/2006  21:28:00                7.884                  0.136   \n",
      "8887     22/12/2006  21:31:00                7.602                  0.148   \n",
      "...             ...       ...                  ...                    ...   \n",
      "2066468  20/11/2010  18:32:00                6.710                  0.376   \n",
      "2066472  20/11/2010  18:36:00                6.574                  0.382   \n",
      "2066476  20/11/2010  18:40:00                6.416                  0.350   \n",
      "2066480  20/11/2010  18:44:00                6.374                  0.392   \n",
      "2066488  20/11/2010  18:52:00                6.364                  0.126   \n",
      "\n",
      "         Voltage  Global_intensity  Sub_metering_1  Sub_metering_2   \n",
      "41        232.93              26.2             0.0            37.0  \\\n",
      "44        232.25              27.0             0.0            36.0   \n",
      "1494      232.70              26.6             0.0             0.0   \n",
      "8884      230.39              34.2            36.0             0.0   \n",
      "8887      231.24              32.8            36.0             0.0   \n",
      "...          ...               ...             ...             ...   \n",
      "2066468   229.28              29.6            25.0            35.0   \n",
      "2066472   229.87              29.0            19.0            35.0   \n",
      "2066476   229.72              28.2            16.0            35.0   \n",
      "2066480   228.52              28.2            15.0            36.0   \n",
      "2066488   229.38              28.2            17.0            34.0   \n",
      "\n",
      "         Sub_metering_3            DateTime  \n",
      "41                 17.0 2006-12-16 18:05:00  \n",
      "44                 17.0 2006-12-16 18:08:00  \n",
      "1494               16.0 2006-12-17 18:18:00  \n",
      "8884               16.0 2006-12-22 21:28:00  \n",
      "8887               17.0 2006-12-22 21:31:00  \n",
      "...                 ...                 ...  \n",
      "2066468            17.0 2010-11-20 18:32:00  \n",
      "2066472            16.0 2010-11-20 18:36:00  \n",
      "2066476            16.0 2010-11-20 18:40:00  \n",
      "2066480            16.0 2010-11-20 18:44:00  \n",
      "2066488            16.0 2010-11-20 18:52:00  \n",
      "\n",
      "[839 rows x 10 columns]\n",
      "Execution time with DataFrame: 0.1955080000043381\n"
     ]
    }
   ],
   "source": [
    "def task5_np(random_sample):\n",
    "    hours = np.array([int(time.split(':')[0]) for time in random_sample[:, 1]])\n",
    "\n",
    "    after_18 = random_sample[hours >= 18]\n",
    "\n",
    "    high_power_consumption = after_18[after_18[:, 2].astype(float) > 6]\n",
    "\n",
    "    filtered_households = high_power_consumption[\n",
    "        (high_power_consumption[:, 6].astype(float) + \n",
    "         high_power_consumption[:, 7].astype(float) + \n",
    "         high_power_consumption[:, 8].astype(float)) > 6]\n",
    "\n",
    "    first_half = filtered_households[:len(filtered_households) // 2]\n",
    "    second_half = filtered_households[len(filtered_households) // 2:]\n",
    "    result = np.concatenate([first_half[::3], second_half[::4]])\n",
    "\n",
    "    return result\n",
    "\n",
    "def task5_df(random_sample):\n",
    "    df_after_18 = random_sample[random_sample['DateTime'].dt.hour >= 18]\n",
    "\n",
    "    average_power_consumption = df_after_18.groupby('DateTime')['Global_active_power'].mean()\n",
    "\n",
    "    high_power_consumption = average_power_consumption[average_power_consumption > 6]\n",
    "\n",
    "    filtered_households = random_sample[random_sample['DateTime'].isin(high_power_consumption.index)]\n",
    "    filtered_households = filtered_households[(filtered_households['Sub_metering_1'] + filtered_households['Sub_metering_2'] + filtered_households['Sub_metering_3']) > 6]\n",
    "\n",
    "    first_half = filtered_households.iloc[:len(filtered_households)//2]\n",
    "    second_half = filtered_households.iloc[len(filtered_households)//2:]\n",
    "\n",
    "    result = pd.concat([first_half.iloc[::3], second_half.iloc[::4]])\n",
    "    return result\n",
    "\n",
    "print('Numpy array:\\n', task5_np(data_np))\n",
    "print(\"Execution time with numpy array:\", ti.timeit(lambda: task5_np(data_np), number=1))\n",
    "print('DataFrame:\\n', task5_df(data_df))\n",
    "print(\"Execution time with DataFrame:\", ti.timeit(lambda: task5_df(data_df), number=1))"
   ]
  },
  {
   "cell_type": "markdown",
   "metadata": {},
   "source": [
    "##### Другий рівень"
   ]
  },
  {
   "cell_type": "markdown",
   "metadata": {},
   "source": [
    "Download another dataset"
   ]
  },
  {
   "cell_type": "code",
   "execution_count": 5,
   "metadata": {},
   "outputs": [
    {
     "name": "stdout",
     "output_type": "stream",
     "text": [
      "     displacement  cylinders  horsepower  weight  acceleration  model_year   \n",
      "0           307.0          8       130.0    3504          12.0          70  \\\n",
      "1           350.0          8       165.0    3693          11.5          70   \n",
      "2           318.0          8       150.0    3436          11.0          70   \n",
      "3           304.0          8       150.0    3433          12.0          70   \n",
      "4           302.0          8       140.0    3449          10.5          70   \n",
      "..            ...        ...         ...     ...           ...         ...   \n",
      "393         140.0          4        86.0    2790          15.6          82   \n",
      "394          97.0          4        52.0    2130          24.6          82   \n",
      "395         135.0          4        84.0    2295          11.6          82   \n",
      "396         120.0          4        79.0    2625          18.6          82   \n",
      "397         119.0          4        82.0    2720          19.4          82   \n",
      "\n",
      "     origin  \n",
      "0         1  \n",
      "1         1  \n",
      "2         1  \n",
      "3         1  \n",
      "4         1  \n",
      "..      ...  \n",
      "393       1  \n",
      "394       2  \n",
      "395       1  \n",
      "396       1  \n",
      "397       1  \n",
      "\n",
      "[398 rows x 7 columns]\n"
     ]
    }
   ],
   "source": [
    "auto_mpg = fetch_ucirepo(id=9) \n",
    "\n",
    "X = auto_mpg.data.features \n",
    "\n",
    "X_df = pd.DataFrame(X)\n",
    "\n",
    "X_df.to_csv('auto_mpg.csv', index=False)\n",
    "\n",
    "print(X_df)"
   ]
  },
  {
   "cell_type": "markdown",
   "metadata": {},
   "source": [
    "Read into variable"
   ]
  },
  {
   "cell_type": "code",
   "execution_count": 16,
   "metadata": {},
   "outputs": [
    {
     "name": "stdout",
     "output_type": "stream",
     "text": [
      "     displacement  cylinders  horsepower  weight  acceleration  model_year   \n",
      "0           307.0          8       130.0    3504          12.0          70  \\\n",
      "1           350.0          8       165.0    3693          11.5          70   \n",
      "2           318.0          8       150.0    3436          11.0          70   \n",
      "3           304.0          8       150.0    3433          12.0          70   \n",
      "4           302.0          8       140.0    3449          10.5          70   \n",
      "..            ...        ...         ...     ...           ...         ...   \n",
      "393         140.0          4        86.0    2790          15.6          82   \n",
      "394          97.0          4        52.0    2130          24.6          82   \n",
      "395         135.0          4        84.0    2295          11.6          82   \n",
      "396         120.0          4        79.0    2625          18.6          82   \n",
      "397         119.0          4        82.0    2720          19.4          82   \n",
      "\n",
      "     origin  \n",
      "0         1  \n",
      "1         1  \n",
      "2         1  \n",
      "3         1  \n",
      "4         1  \n",
      "..      ...  \n",
      "393       1  \n",
      "394       2  \n",
      "395       1  \n",
      "396       1  \n",
      "397       1  \n",
      "\n",
      "[398 rows x 7 columns]\n"
     ]
    }
   ],
   "source": [
    "auto_df = pd.read_csv('auto_mpg.csv')\n",
    "print(auto_df)"
   ]
  },
  {
   "cell_type": "markdown",
   "metadata": {},
   "source": [
    "1. Поборотися із зниклими даними."
   ]
  },
  {
   "cell_type": "code",
   "execution_count": 17,
   "metadata": {},
   "outputs": [
    {
     "name": "stdout",
     "output_type": "stream",
     "text": [
      "     displacement  cylinders  horsepower  weight  acceleration  model_year   \n",
      "0           307.0          8       130.0    3504          12.0          70  \\\n",
      "1           350.0          8       165.0    3693          11.5          70   \n",
      "2           318.0          8       150.0    3436          11.0          70   \n",
      "3           304.0          8       150.0    3433          12.0          70   \n",
      "4           302.0          8       140.0    3449          10.5          70   \n",
      "..            ...        ...         ...     ...           ...         ...   \n",
      "393         140.0          4        86.0    2790          15.6          82   \n",
      "394          97.0          4        52.0    2130          24.6          82   \n",
      "395         135.0          4        84.0    2295          11.6          82   \n",
      "396         120.0          4        79.0    2625          18.6          82   \n",
      "397         119.0          4        82.0    2720          19.4          82   \n",
      "\n",
      "     origin  \n",
      "0         1  \n",
      "1         1  \n",
      "2         1  \n",
      "3         1  \n",
      "4         1  \n",
      "..      ...  \n",
      "393       1  \n",
      "394       2  \n",
      "395       1  \n",
      "396       1  \n",
      "397       1  \n",
      "\n",
      "[392 rows x 7 columns]\n"
     ]
    }
   ],
   "source": [
    "# Є пропущені значення у стовбчику 'horsepower'. Оскільки пропісків небагато, можемо просто видалити рядки з відсутніми значеннями цього параметру\n",
    "\n",
    "auto_df = auto_df.dropna()\n",
    "print(auto_df)"
   ]
  },
  {
   "cell_type": "markdown",
   "metadata": {},
   "source": [
    "2. Пронормувати вибраний датасет або стандартизувати його (нормалізація і стандартизація мають бути реалізовані як окремі функції без застосування додаткових бібліотек, як наприклад sklearn.preprocessing)."
   ]
  },
  {
   "cell_type": "code",
   "execution_count": 18,
   "metadata": {},
   "outputs": [
    {
     "name": "stdout",
     "output_type": "stream",
     "text": [
      "     displacement  cylinders  horsepower    weight  acceleration  model_year   \n",
      "0        0.617571          8    0.456522  0.536150      0.238095          70  \\\n",
      "1        0.728682          8    0.646739  0.589736      0.208333          70   \n",
      "2        0.645995          8    0.565217  0.516870      0.178571          70   \n",
      "3        0.609819          8    0.565217  0.516019      0.238095          70   \n",
      "4        0.604651          8    0.510870  0.520556      0.148810          70   \n",
      "..            ...        ...         ...       ...           ...         ...   \n",
      "393      0.186047          4    0.217391  0.333711      0.452381          82   \n",
      "394      0.074935          4    0.032609  0.146583      0.988095          82   \n",
      "395      0.173127          4    0.206522  0.193365      0.214286          82   \n",
      "396      0.134367          4    0.179348  0.286929      0.630952          82   \n",
      "397      0.131783          4    0.195652  0.313864      0.678571          82   \n",
      "\n",
      "     origin  \n",
      "0         1  \n",
      "1         1  \n",
      "2         1  \n",
      "3         1  \n",
      "4         1  \n",
      "..      ...  \n",
      "393       1  \n",
      "394       2  \n",
      "395       1  \n",
      "396       1  \n",
      "397       1  \n",
      "\n",
      "[392 rows x 7 columns]\n"
     ]
    }
   ],
   "source": [
    "columns_to_normalize = ['displacement', 'horsepower', 'weight', 'acceleration']\n",
    "\n",
    "for col in columns_to_normalize:\n",
    "    min_val = auto_df[col].min()\n",
    "    max_val = auto_df[col].max()\n",
    "    auto_df[col] = (auto_df[col] - min_val) / (max_val - min_val)\n",
    "\n",
    "print(auto_df)\n"
   ]
  },
  {
   "cell_type": "markdown",
   "metadata": {},
   "source": [
    "3. Збудувати гістограму по одному із атрибутів, що буде показувати на кількість елементів, що знаходяться у 10 діапазонах, які ви задасте."
   ]
  },
  {
   "cell_type": "code",
   "execution_count": 21,
   "metadata": {},
   "outputs": [
    {
     "data": {
      "image/png": "[encoded data removed]",
      "text/plain": [
       "<Figure size 640x480 with 1 Axes>"
      ]
     },
     "metadata": {},
     "output_type": "display_data"
    }
   ],
   "source": [
    "attribute = 'weight'\n",
    "\n",
    "bins = [0, 0.1, 0.2, 0.3, 0.4, 0.5, 0.6, 0.7, 0.8, 0.9, 1]\n",
    "\n",
    "plt.hist(auto_df[attribute], bins=bins, edgecolor='black')\n",
    "plt.xlabel(attribute)\n",
    "plt.ylabel('Frequency')\n",
    "plt.title('Histogram of ' + attribute)\n",
    "plt.show()"
   ]
  },
  {
   "cell_type": "markdown",
   "metadata": {},
   "source": [
    "4. Збудувати графік залежності одного integer/real атрибута від іншого."
   ]
  },
  {
   "cell_type": "code",
   "execution_count": 12,
   "metadata": {},
   "outputs": [
    {
     "data": {
      "image/png": "[encoded data removed]",
      "text/plain": [
       "<Figure size 640x480 with 1 Axes>"
      ]
     },
     "metadata": {},
     "output_type": "display_data"
    }
   ],
   "source": [
    "x_attribute = 'weight'\n",
    "y_attribute = 'horsepower'\n",
    "\n",
    "plt.scatter(auto_df[x_attribute], auto_df[y_attribute], color='blue', alpha=0.5)\n",
    "plt.xlabel(x_attribute)\n",
    "plt.ylabel(y_attribute)\n",
    "plt.title(f'Scatter Plot of {x_attribute} vs {y_attribute}')\n",
    "plt.grid(True)\n",
    "plt.show()"
   ]
  },
  {
   "cell_type": "markdown",
   "metadata": {},
   "source": [
    "5. Підрахувати коефіцієнт Пірсона та Спірмена для двох integer/real атрибутів."
   ]
  },
  {
   "cell_type": "code",
   "execution_count": 20,
   "metadata": {},
   "outputs": [
    {
     "name": "stdout",
     "output_type": "stream",
     "text": [
      "Pearson correlation coefficient: 0.8645377375741444\n",
      "Spearman correlation coefficient: 0.878819325346196\n"
     ]
    }
   ],
   "source": [
    "attribute1 = 'weight'\n",
    "attribute2 = 'horsepower'\n",
    "\n",
    "x = auto_df[attribute1]\n",
    "y = auto_df[attribute2]\n",
    "\n",
    "pearson_corr, _ = pearsonr(x, y)\n",
    "spearman_corr, _ = spearmanr(x, y)\n",
    "\n",
    "print(f\"Pearson correlation coefficient: {pearson_corr}\")\n",
    "print(f\"Spearman correlation coefficient: {spearman_corr}\")"
   ]
  },
  {
   "cell_type": "markdown",
   "metadata": {},
   "source": [
    "6. Провести One Hot Encoding категоріального string атрибуту."
   ]
  },
  {
   "cell_type": "code",
   "execution_count": 8,
   "metadata": {},
   "outputs": [
    {
     "name": "stdout",
     "output_type": "stream",
     "text": [
      "Original DataFrame:\n",
      "     displacement  cylinders  horsepower  weight  acceleration  model_year   \n",
      "0           307.0          8       130.0    3504          12.0          70  \\\n",
      "1           350.0          8       165.0    3693          11.5          70   \n",
      "2           318.0          8       150.0    3436          11.0          70   \n",
      "3           304.0          8       150.0    3433          12.0          70   \n",
      "4           302.0          8       140.0    3449          10.5          70   \n",
      "..            ...        ...         ...     ...           ...         ...   \n",
      "393         140.0          4        86.0    2790          15.6          82   \n",
      "394          97.0          4        52.0    2130          24.6          82   \n",
      "395         135.0          4        84.0    2295          11.6          82   \n",
      "396         120.0          4        79.0    2625          18.6          82   \n",
      "397         119.0          4        82.0    2720          19.4          82   \n",
      "\n",
      "     origin  \n",
      "0         1  \n",
      "1         1  \n",
      "2         1  \n",
      "3         1  \n",
      "4         1  \n",
      "..      ...  \n",
      "393       1  \n",
      "394       2  \n",
      "395       1  \n",
      "396       1  \n",
      "397       1  \n",
      "\n",
      "[398 rows x 7 columns]\n",
      "\n",
      "Encoded DataFrame:\n",
      "     displacement  cylinders  horsepower  weight  acceleration  model_year   \n",
      "0           307.0          8       130.0    3504          12.0          70  \\\n",
      "1           350.0          8       165.0    3693          11.5          70   \n",
      "2           318.0          8       150.0    3436          11.0          70   \n",
      "3           304.0          8       150.0    3433          12.0          70   \n",
      "4           302.0          8       140.0    3449          10.5          70   \n",
      "..            ...        ...         ...     ...           ...         ...   \n",
      "393         140.0          4        86.0    2790          15.6          82   \n",
      "394          97.0          4        52.0    2130          24.6          82   \n",
      "395         135.0          4        84.0    2295          11.6          82   \n",
      "396         120.0          4        79.0    2625          18.6          82   \n",
      "397         119.0          4        82.0    2720          19.4          82   \n",
      "\n",
      "     origin    1    2    3  \n",
      "0         1  1.0  0.0  0.0  \n",
      "1         1  1.0  0.0  0.0  \n",
      "2         1  1.0  0.0  0.0  \n",
      "3         1  1.0  0.0  0.0  \n",
      "4         1  1.0  0.0  0.0  \n",
      "..      ...  ...  ...  ...  \n",
      "393       1  1.0  0.0  0.0  \n",
      "394       2  0.0  1.0  0.0  \n",
      "395       1  1.0  0.0  0.0  \n",
      "396       1  1.0  0.0  0.0  \n",
      "397       1  1.0  0.0  0.0  \n",
      "\n",
      "[398 rows x 10 columns]\n"
     ]
    }
   ],
   "source": [
    "encoder = OneHotEncoder()\n",
    "\n",
    "encoded_data = encoder.fit_transform(auto_df[['origin']])\n",
    "\n",
    "encoded_df = pd.DataFrame(encoded_data.toarray(), columns=encoder.categories_[0])\n",
    "\n",
    "result_df = pd.concat([auto_df, encoded_df], axis=1)\n",
    "\n",
    "print(\"Original DataFrame:\")\n",
    "print(auto_df)\n",
    "print(\"\\nEncoded DataFrame:\")\n",
    "print(result_df)"
   ]
  },
  {
   "cell_type": "markdown",
   "metadata": {},
   "source": [
    "7. Провести візуалізацію багатовимірних даних, використовуючи приклади, наведені у медіумі"
   ]
  },
  {
   "cell_type": "code",
   "execution_count": 13,
   "metadata": {},
   "outputs": [
    {
     "data": {
      "image/png": "[encoded data removed]",
      "text/plain": [
       "<Figure size 1000x800 with 2 Axes>"
      ]
     },
     "metadata": {},
     "output_type": "display_data"
    }
   ],
   "source": [
    "corr_matrix = auto_df.corr()\n",
    "\n",
    "plt.figure(figsize=(10, 8))\n",
    "sns.heatmap(corr_matrix, annot=True, cmap='coolwarm', fmt=\".2f\")\n",
    "plt.title('Correlation Heatmap')\n",
    "plt.show()"
   ]
  }
 ],
 "metadata": {
  "kernelspec": {
   "display_name": "Python 3",
   "language": "python",
   "name": "python3"
  },
  "language_info": {
   "codemirror_mode": {
    "name": "ipython",
    "version": 3
   },
   "file_extension": ".py",
   "mimetype": "text/x-python",
   "name": "python",
   "nbconvert_exporter": "python",
   "pygments_lexer": "ipython3",
   "version": "3.11.2"
  }
 },
 "nbformat": 4,
 "nbformat_minor": 2
}
