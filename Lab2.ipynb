{
 "cells": [
  {
   "cell_type": "markdown",
   "metadata": {},
   "source": [
    "## Засоби підготовки та аналізу даних\n",
    "#### Шафранський Даніїл, ФБ-22. Лабораторна робота №2"
   ]
  },
  {
   "cell_type": "markdown",
   "metadata": {},
   "source": [
    "Imports"
   ]
  },
  {
   "cell_type": "code",
   "execution_count": 1,
   "metadata": {},
   "outputs": [],
   "source": [
    "import pandas as pd"
   ]
  },
  {
   "cell_type": "code",
   "execution_count": 2,
   "metadata": {},
   "outputs": [],
   "source": [
    "import urllib.request\n",
    "from datetime import datetime, date\n",
    "import os\n",
    "import csv"
   ]
  },
  {
   "cell_type": "markdown",
   "metadata": {},
   "source": [
    "Variables"
   ]
  },
  {
   "cell_type": "code",
   "execution_count": 3,
   "metadata": {},
   "outputs": [],
   "source": [
    "url_base=('https://www.star.nesdis.noaa.gov/smcd/emb/vci/VH/get_TS_admin.php?country=UKR&provinceID={''}&year1=1981&year2=2024&type=Mean')\n",
    "dir = 'CSV_Files'\n",
    "indexes = {1: 22, 2: 24, 3: 23, 4: 25, 5: 3, 6: 4, 7: 8, 8: 19, 9: 20, 10: 21, 11: 9, 13: 10, 14: 11, 15: 12, 16: 13, 17: 14, 18: 15, 19: 16, 21: 17, 22: 18, 23: 6, 24: 1, 25: 2, 26: 7, 27: 5}\n",
    "if not os.path.exists(dir):\n",
    "    os.makedirs(dir)"
   ]
  },
  {
   "cell_type": "markdown",
   "metadata": {},
   "source": [
    "Download csv"
   ]
  },
  {
   "cell_type": "code",
   "execution_count": 4,
   "metadata": {},
   "outputs": [
    {
     "name": "stdout",
     "output_type": "stream",
     "text": [
      "File already exists and was not downloaded: CSV_Files\\NOAA_22_20240317005336.csv\n",
      "File already exists and was not downloaded: CSV_Files\\NOAA_24_20240317005337.csv\n",
      "File already exists and was not downloaded: CSV_Files\\NOAA_23_20240317005338.csv\n",
      "File already exists and was not downloaded: CSV_Files\\NOAA_25_20240317005338.csv\n",
      "File already exists and was not downloaded: CSV_Files\\NOAA_3_20240317005339.csv\n",
      "File already exists and was not downloaded: CSV_Files\\NOAA_4_20240317005340.csv\n",
      "File already exists and was not downloaded: CSV_Files\\NOAA_8_20240317005341.csv\n",
      "File already exists and was not downloaded: CSV_Files\\NOAA_19_20240317005342.csv\n",
      "File already exists and was not downloaded: CSV_Files\\NOAA_20_20240317005343.csv\n",
      "File already exists and was not downloaded: CSV_Files\\NOAA_21_20240317005344.csv\n",
      "File already exists and was not downloaded: CSV_Files\\NOAA_9_20240317005345.csv\n",
      "File already exists and was not downloaded: CSV_Files\\NOAA_10_20240317005346.csv\n",
      "File already exists and was not downloaded: CSV_Files\\NOAA_11_20240317005347.csv\n",
      "File already exists and was not downloaded: CSV_Files\\NOAA_12_20240317005347.csv\n",
      "File already exists and was not downloaded: CSV_Files\\NOAA_13_20240317005348.csv\n",
      "File already exists and was not downloaded: CSV_Files\\NOAA_14_20240317005349.csv\n",
      "File already exists and was not downloaded: CSV_Files\\NOAA_15_20240317005350.csv\n",
      "File already exists and was not downloaded: CSV_Files\\NOAA_16_20240317005351.csv\n",
      "File already exists and was not downloaded: CSV_Files\\NOAA_17_20240317005352.csv\n",
      "File already exists and was not downloaded: CSV_Files\\NOAA_18_20240317005353.csv\n",
      "File already exists and was not downloaded: CSV_Files\\NOAA_6_20240317005354.csv\n",
      "File already exists and was not downloaded: CSV_Files\\NOAA_1_20240317005355.csv\n",
      "File already exists and was not downloaded: CSV_Files\\NOAA_2_20240317005356.csv\n",
      "File already exists and was not downloaded: CSV_Files\\NOAA_7_20240317005357.csv\n",
      "File already exists and was not downloaded: CSV_Files\\NOAA_5_20240317005358.csv\n",
      "Success\n"
     ]
    }
   ],
   "source": [
    "def construct_url(province_id):\n",
    "    return url_base.format(province_id)\n",
    "\n",
    "def file_exists(directory, file_prefix):\n",
    "    for file_name in os.listdir(directory):\n",
    "        if file_name.startswith(file_prefix):\n",
    "            return True\n",
    "    return False\n",
    "\n",
    "def download_file(url, file_path):\n",
    "    with urllib.request.urlopen(url) as response:\n",
    "        text = response.read()\n",
    "        with open(file_path, 'wb') as file:\n",
    "            file.write(text)\n",
    "\n",
    "def update_file_if_needed(url, file_path):\n",
    "    with urllib.request.urlopen(url) as response:\n",
    "        new_text = response.read()\n",
    "        with open(file_path, 'rb') as file:\n",
    "            existing_text = file.read()\n",
    "        if existing_text != new_text:\n",
    "            with open(file_path, 'wb') as file:\n",
    "                file.write(new_text)\n",
    "            print('File updated:', file_path)\n",
    "        else:\n",
    "            print('File already exists and was not downloaded:', file_path)\n",
    "\n",
    "def main():\n",
    "    for province_id, index in indexes.items():\n",
    "        file_prefix = 'NOAA_' + str(index) + '_'\n",
    "        file_already_exists = file_exists(dir, file_prefix)\n",
    "\n",
    "        if not file_already_exists:\n",
    "            url = construct_url(province_id)\n",
    "            date_and_time_time = datetime.now().strftime(\"%Y%m%d%H%M%S\")\n",
    "            file_name = file_prefix + date_and_time_time + '.csv'\n",
    "            file_path = os.path.join(dir, file_name)\n",
    "            download_file(url, file_path)\n",
    "            print('File created:', file_name)\n",
    "        else:\n",
    "            file_path = next((os.path.join(dir, file_name) for file_name in os.listdir(dir) if file_name.startswith(file_prefix)), None)\n",
    "            if file_path:\n",
    "                update_file_if_needed(construct_url(province_id), file_path)\n",
    "\n",
    "    print('Success')\n",
    "\n",
    "main()"
   ]
  },
  {
   "cell_type": "markdown",
   "metadata": {},
   "source": [
    "Create dataframe"
   ]
  },
  {
   "cell_type": "code",
   "execution_count": 8,
   "metadata": {},
   "outputs": [
    {
     "name": "stdout",
     "output_type": "stream",
     "text": [
      "       Year  Week    SMN     SMT    VCI    TCI    VHI Area\n",
      "0      1982   1.0  0.045  261.12  36.68  41.79  39.23   10\n",
      "1      1982   2.0  0.041  262.61  36.46  35.10  35.78   10\n",
      "2      1982   3.0  0.041  263.82  36.49  30.79  33.64   10\n",
      "3      1982   4.0  0.038  264.71  33.46  28.66  31.06   10\n",
      "4      1982   5.0  0.034  264.76  29.66  30.50  30.08   10\n",
      "...     ...   ...    ...     ...    ...    ...    ...  ...\n",
      "53595  2024   6.0  0.087  265.01  55.93  37.82  46.87    9\n",
      "53596  2024   7.0  0.104  268.59  60.95  29.91  45.40    9\n",
      "53597  2024   8.0  0.121  271.86  64.85  23.64  44.21    9\n",
      "53598  2024   9.0  0.138  274.65  68.03  20.12  44.05    9\n",
      "53599  2024  10.0  0.150  276.27  67.09  23.10  45.07    9\n",
      "\n",
      "[53600 rows x 8 columns]\n"
     ]
    }
   ],
   "source": [
    "data_dir = \"CSV_Files\"\n",
    "output_path = \"full.csv\"\n",
    "\n",
    "column_names = [\"Year\", \"Week\", \"SMN\", \"SMT\", \"VCI\", \"TCI\", \"VHI\", \"Area\"]\n",
    "combined_data = pd.DataFrame(columns=column_names)\n",
    "\n",
    "filenames = os.listdir(data_dir)\n",
    "\n",
    "for filename in filenames:\n",
    "    if not filename.endswith(\".csv\"):\n",
    "        continue\n",
    "\n",
    "    file_path = os.path.join(data_dir, filename)\n",
    "\n",
    "    df = pd.read_csv(file_path, skiprows=2, names=column_names)\n",
    "    df[\"Year\"] = df[\"Year\"].str.replace('<tt><pre>', '').str.replace('</pre></tt>', '')\n",
    "\n",
    "    region_id = int(filename.split('_')[1])\n",
    "    df[\"Area\"] = region_id\n",
    "\n",
    "    df = df.drop(df.loc[df['VHI'] == -1].index).dropna()\n",
    "\n",
    "    combined_data = pd.concat([combined_data, df], ignore_index=True)\n",
    "\n",
    "combined_data.to_csv(output_path, index=False)\n",
    "\n",
    "print(combined_data)"
   ]
  },
  {
   "cell_type": "markdown",
   "metadata": {},
   "source": [
    "Read csv into dataframe"
   ]
  },
  {
   "cell_type": "code",
   "execution_count": 6,
   "metadata": {},
   "outputs": [],
   "source": [
    "df=pd.read_csv('full.csv')"
   ]
  },
  {
   "cell_type": "markdown",
   "metadata": {},
   "source": [
    "Ряд VHI для області за вказаний рік, пошук екстремумів (min та max)"
   ]
  },
  {
   "cell_type": "code",
   "execution_count": 7,
   "metadata": {},
   "outputs": [
    {
     "name": "stdout",
     "output_type": "stream",
     "text": [
      "Ряд VHI для області за вказаний рік: 33.17, 36.01, 38.33, 39.89, 38.53, 36.72, 35.60, 35.59, 36.77, 35.44, 31.98, 31.10, 29.06, 29.11, 34.67, 39.71, 46.18, 50.21, 52.39, 54.81, 56.40, 57.68, 59.95, 63.62, 67.10, 68.82, 71.57, 73.29, 72.34, 71.94, 71.29, 70.75, 69.76, 68.99, 65.85, 62.26, 60.28, 56.41, 52.48, 50.49, 48.03, 49.48, 52.52, 47.84, 42.39, 38.64, 38.21, 38.69, 36.86, 36.32, 34.72, 31.50.\n",
      "Мінімальний показник VHI для області з індексом 1 у 1991 році складав 29.06. Максимальний показник VHI для області з індексом 1 у 1991 році складав 73.29.\n"
     ]
    }
   ],
   "source": [
    "def proc_1(dataframe, index, year):\n",
    "    vhi = dataframe[(dataframe[\"Area\"] == index) & (dataframe[\"Year\"] == year)]['VHI']\n",
    "    vhi_max = vhi.max()\n",
    "    vhi_min = vhi.min()\n",
    "    vhi_row = ', '.join([y.split('    ')[-1] for y in [x for x in str(vhi).split('\\n')[:-1]]])\n",
    "    return f\"Ряд VHI для області за вказаний рік: {vhi_row}.\\nМінімальний показник VHI для області з індексом {index} у {year} році складав {vhi_min}. Максимальний показник VHI для області з індексом {index} у {year} році складав {vhi_max}.\"\n",
    "\n",
    "index = 1\n",
    "year = 1991\n",
    "\n",
    "print(proc_1(df, index, year))"
   ]
  },
  {
   "cell_type": "markdown",
   "metadata": {},
   "source": [
    "Ряд VHI за вказаний діапазон років для вказаних областей; виявити роки, протягом яких екстремальні посухи торкнулися більше вказаного відсотка областей по Україні (20% областей - 5 областей з 25)"
   ]
  },
  {
   "cell_type": "code",
   "execution_count": 9,
   "metadata": {},
   "outputs": [
    {
     "name": "stdout",
     "output_type": "stream",
     "text": [
      "Ряд VHI для області з індексом 1 за вказаний діапазон років: 33.17, 36.01, 38.33, 39.89, 38.53, 36.72, 35.6, 35.59, 36.77, 35.44, 31.98, 31.1, 29.06, 29.11, 34.67, 39.71, 46.18, 50.21, 52.39, 54.81, 56.4, 57.68, 59.95, 63.62, 67.1, 68.82, 71.57, 73.29, 72.34, 71.94, 71.29, 70.75, 69.76, 68.99, 65.85, 62.26, 60.28, 56.41, 52.48, 50.49, 48.03, 49.48, 52.52, 47.84, 42.39, 38.64, 38.21, 38.69, 36.86, 36.32, 34.72, 31.5, 29.68, 29.92, 32.14, 33.45, 35.01, 36.33, 36.02, 35.83, 36.62, 36.33, 35.17, 36.95, 38.59, 40.89, 45.89, 48.55, 48.15, 49.09, 49.63, 49.02, 47.79, 47.25, 47.82, 50.19, 52.09, 52.89, 54.14, 53.77, 50.25, 43.65, 35.91, 29.69, 24.88, 22.33, 23.49, 26.9, 30.22, 32.59, 35.85, 42.02, 43.15, 42.82, 42.93, 40.03, 37.75, 37.53, 38.66, 41.08, 40.66, 39.96, 39.62, 38.93, 37.19, 37.02, 36.61, 36.55, 37.18, 38.57, 38.76, 39.94, 42.15, 44.13, 45.43, 47.96, 48.55, 49.79, 52.66, 53.81, 50.5, 49.18, 51.48, 53.99, 56.0, 57.09, 58.59, 62.56, 65.56, 66.56, 69.46, 72.1, 72.61, 70.13, 69.5, 70.35, 68.46, 65.88, 64.06, 62.21, 59.88, 56.55, 51.56, 46.78, 41.22, 39.19, 40.34, 39.57, 35.4, 31.48, 28.74, 27.56, 26.12, 25.42, 24.48, 24.02, 24.71, 26.06, 33.89, 36.84, 40.07, 41.58, 41.57, 41.03, 40.62, 38.23, 35.41, 35.58, 35.26, 36.57, 42.49, 49.52, 54.55, 60.85, 64.97, 69.23, 71.21, 72.96, 75.69, 78.09, 76.66, 72.15, 68.64, 61.42, 52.73, 44.85, 38.75, 35.27, 35.68, 36.66, 36.38, 37.09\n",
      "Ряд VHI для області з індексом 3 за вказаний діапазон років: 41.02, 41.16, 42.63, 45.1, 43.36, 40.16, 39.13, 40.38, 42.23, 41.3, 40.53, 39.29, 37.71, 36.04, 37.63, 43.19, 50.54, 54.75, 60.03, 65.51, 66.29, 62.91, 59.18, 57.27, 56.51, 53.78, 50.72, 49.37, 48.46, 47.81, 47.63, 48.57, 50.2, 52.57, 53.38, 51.29, 48.11, 45.16, 42.23, 41.76, 43.73, 47.0, 52.18, 49.71, 48.22, 46.53, 45.83, 44.54, 42.66, 40.05, 39.33, 40.39, 44.51, 45.08, 45.47, 46.03, 46.29, 45.36, 43.09, 41.28, 39.33, 35.91, 33.57, 32.21, 32.72, 33.49, 34.66, 36.55, 40.93, 47.98, 53.62, 58.16, 62.04, 62.59, 62.88, 62.58, 62.33, 61.44, 59.16, 55.09, 51.12, 47.97, 44.72, 41.2, 37.3, 36.19, 36.98, 38.27, 39.14, 41.64, 44.55, 48.26, 48.28, 46.19, 44.7, 42.7, 41.63, 41.13, 41.07, 40.66, 41.37, 39.64, 40.48, 42.69, 45.34, 44.02, 41.68, 40.51, 39.63, 37.77, 36.5, 36.64, 37.81, 39.22, 41.19, 43.21, 42.99, 40.79, 40.42, 41.44, 44.66, 48.74, 54.3, 62.1, 67.83, 69.97, 70.06, 70.56, 72.83, 71.81, 66.53, 60.02, 56.26, 54.16, 52.97, 51.66, 51.85, 52.68, 54.56, 56.22, 55.91, 56.56, 53.3, 47.88, 45.56, 44.06, 42.51, 39.6, 35.39, 31.2, 26.08, 22.58, 20.06, 17.58, 18.62, 21.33, 28.17, 39.37, 55.01, 55.95, 56.36, 54.3, 51.69, 49.65, 49.52, 46.99, 43.4, 39.49, 36.14, 34.78, 35.34, 36.5, 43.32, 52.57, 60.23, 65.96, 70.33, 72.97, 74.92, 76.53, 76.81, 72.9, 66.35, 58.87, 52.03, 47.98, 44.93, 42.27, 39.79, 37.49, 35.32, 31.13\n",
      "Ряд VHI для області з індексом 5 за вказаний діапазон років: 43.01, 46.6, 47.92, 48.42, 44.16, 39.84, 37.04, 35.2, 34.45, 33.47, 30.93, 31.23, 30.97, 32.07, 35.36, 39.29, 44.29, 48.79, 51.51, 54.07, 54.57, 55.32, 56.18, 53.5, 51.66, 50.79, 51.35, 54.06, 56.72, 59.74, 59.55, 58.29, 57.06, 55.13, 51.99, 50.62, 48.89, 44.82, 41.16, 38.84, 38.43, 42.75, 47.55, 45.92, 41.03, 36.51, 37.05, 38.2, 36.81, 35.66, 33.66, 31.85, 34.4, 35.93, 38.14, 38.96, 39.47, 39.19, 37.22, 36.76, 36.29, 35.82, 33.35, 34.8, 36.22, 37.97, 42.49, 47.51, 50.95, 52.8, 52.74, 51.37, 48.9, 46.59, 45.12, 44.97, 45.64, 44.3, 41.8, 39.3, 35.63, 32.8, 28.27, 25.1, 21.18, 19.48, 22.71, 29.87, 36.65, 42.19, 49.74, 54.7, 53.97, 51.45, 49.14, 43.6, 38.11, 35.03, 35.8, 37.34, 35.83, 33.5, 32.44, 32.62, 34.57, 35.57, 36.34, 38.14, 38.62, 40.26, 40.47, 40.16, 40.79, 40.85, 40.1, 42.16, 43.77, 46.99, 49.11, 49.64, 46.49, 44.17, 47.41, 50.41, 51.52, 52.66, 52.87, 52.76, 53.79, 53.86, 55.46, 59.03, 63.27, 66.29, 69.12, 72.61, 72.7, 70.3, 67.78, 66.66, 65.58, 63.74, 61.39, 56.74, 51.19, 47.6, 48.2, 49.82, 50.11, 50.92, 51.64, 52.27, 51.4, 49.25, 46.35, 45.44, 46.65, 35.44, 40.68, 41.8, 43.34, 43.75, 43.32, 42.43, 42.4, 41.92, 40.37, 41.52, 41.27, 40.85, 44.6, 49.45, 54.38, 59.78, 62.51, 63.81, 62.94, 63.81, 65.15, 66.65, 66.26, 62.48, 59.67, 55.72, 50.42, 47.17, 43.86, 41.44, 42.41, 42.64, 41.96, 42.4\n",
      "Роки, протягом яких екстримальна посуха торкнулися більше вказаного відсотка областей:\n",
      "2000, 2007\n"
     ]
    }
   ],
   "source": [
    "def proc_2_1(dataframe, years_start, years_end, indexes):\n",
    "    years = range(years_start, years_end)\n",
    "    vhi_by_index = {}\n",
    "    for index in indexes:\n",
    "        filtered_df = dataframe[(dataframe[\"Area\"] == index) & (dataframe[\"Year\"].isin(years))]\n",
    "        vhi_by_index[index] = filtered_df[\"VHI\"].tolist()\n",
    "\n",
    "    for index, vhi in vhi_by_index.items():\n",
    "        print(f\"Ряд VHI для області з індексом {index} за вказаний діапазон років: {', '.join([str(x) for x in vhi])}\")\n",
    "\n",
    "starting_year = 1991\n",
    "ending_year = 1995\n",
    "province_indexes = [1, 3, 5]\n",
    "proc_2_1(df, starting_year, ending_year, province_indexes)\n",
    "\n",
    "def proc_2_2(dataframe, percent):\n",
    "    yearly_affected_areas = dataframe[dataframe[\"VHI\"] < 15].groupby(\"Year\")[\"Area\"].nunique()\n",
    "    yearly_percentage_affected = yearly_affected_areas / df[\"Area\"].unique().size\n",
    "    years_with_extreme_drought = yearly_percentage_affected[yearly_percentage_affected >= percent].index.to_list()\n",
    "\n",
    "    print(\"Роки, протягом яких екстримальна посуха торкнулися більше вказаного відсотка областей:\")\n",
    "    print(*years_with_extreme_drought, sep=\", \")\n",
    "\n",
    "proc_2_2(df, 0.1)"
   ]
  },
  {
   "cell_type": "markdown",
   "metadata": {},
   "source": [
    "Аналогічно для помірних посух"
   ]
  },
  {
   "cell_type": "code",
   "execution_count": 11,
   "metadata": {},
   "outputs": [
    {
     "name": "stdout",
     "output_type": "stream",
     "text": [
      "Роки, протягом яких помірна посуха торкнулися більше вказаного відсотка областей:\n",
      "1982, 1983, 1984, 1985, 1986, 1989, 1990, 1992, 1993, 1995, 1996, 2000, 2015, 2019\n"
     ]
    }
   ],
   "source": [
    "def proc_3(dataframe, percent):\n",
    "    yearly_affected_areas = dataframe[(dataframe[\"VHI\"] < 35) & (dataframe[\"VHI\"] > 15)].groupby(\"Year\")[\"Area\"].nunique()\n",
    "    yearly_percentage_affected = yearly_affected_areas / df[\"Area\"].unique().size\n",
    "    years_with_moderate_drought = yearly_percentage_affected[yearly_percentage_affected >= percent].index.to_list()\n",
    "\n",
    "    print(\"Роки, протягом яких помірна посуха торкнулися більше вказаного відсотка областей:\")\n",
    "    print(*years_with_moderate_drought, sep=\", \")\n",
    "\n",
    "proc_3(df, 0.9)"
   ]
  }
 ],
 "metadata": {
  "kernelspec": {
   "display_name": "Lab2",
   "language": "python",
   "name": "python3"
  },
  "language_info": {
   "codemirror_mode": {
    "name": "ipython",
    "version": 3
   },
   "file_extension": ".py",
   "mimetype": "text/x-python",
   "name": "python",
   "nbconvert_exporter": "python",
   "pygments_lexer": "ipython3",
   "version": "3.11.2"
  }
 },
 "nbformat": 4,
 "nbformat_minor": 2
}
